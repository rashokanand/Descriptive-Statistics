{
 "cells": [
  {
   "cell_type": "markdown",
   "metadata": {},
   "source": [
    "# Reflections on vocabulary of descriptive statistics\n",
    "\n",
    "## Random Variables: What are they for?\n",
    "Notated by a capital letter, a random variable is a placeholder that stores possible values of a process.\n",
    "<br> For example, if X represents all possible numbers that a 6 sided die can show after rolling, then X is said to be a Random variable. It is a set of all possible values that can be obtained from the die.\n",
    "<br> Each value within a random variable can be notated by a lower case letter, say x. \n",
    "## Descriptive statistics: What and why?\n",
    "These statistics describe the dataset at hand. By just looking at a couple of numbers, you get a deeper understanding of the dataset at hand without looking at every datapoint. They are properties of data, that show how the data is distributed, and what sort of analysis can be done over them that is relevant.\n",
    "### Types of Descriptive statistics\n",
    "- Center\n",
    "- Spread\n",
    "- shape\n",
    "- Outliers\n",
    "\n",
    "### Center\n",
    "The three measures of center are:\n",
    "\n",
    "> Mean: This is the Sum of all values in a random variable divided by the number of observations\n",
    "\n",
    "> Median: This is the center point in the dataset. If the number of observations is odd, then the middle value (after the data is sorted), is the median. While if the count is odd, then the median is the mean of the middle two observations (again after sorting)\n",
    "\n",
    "> Mode: The Value that repeats the most in the data is the mode. There can be more than 1 mode, and there can be no mode at all. (Think about this). If there are no repeating values, then the mode does not exist. If there is a tie between the most repeating values, then this is the mode.\n",
    "## Notation: How is this helpful\n",
    "Notation is a common language for communicating mathematical ideas in consise form. Mathematical notation concepts are similar all throughout the world. Even if someone uses a different language than your own, and you fail to understand anything the other person says, you can be rest assured that '+' stands for the same thing for all. 1 + 1 would equal 2 for both you and them.\n",
    "<br> Another great advantage is that complex ideas can be communicated easily using existing mathematical notation. Say you want to say to sum over a hundred numbers in a random variable. The way to say this is:\n",
    "<br>$\\sum_{i=1}^n x_i$"
   ]
  },
  {
   "cell_type": "code",
   "execution_count": null,
   "metadata": {},
   "outputs": [],
   "source": []
  }
 ],
 "metadata": {
  "kernelspec": {
   "display_name": "Python 3",
   "language": "python",
   "name": "python3"
  },
  "language_info": {
   "codemirror_mode": {
    "name": "ipython",
    "version": 3
   },
   "file_extension": ".py",
   "mimetype": "text/x-python",
   "name": "python",
   "nbconvert_exporter": "python",
   "pygments_lexer": "ipython3",
   "version": "3.7.0"
  }
 },
 "nbformat": 4,
 "nbformat_minor": 2
}
