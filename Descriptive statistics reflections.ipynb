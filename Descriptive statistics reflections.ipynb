{
 "cells": [
  {
   "cell_type": "markdown",
   "metadata": {},
   "source": [
    "# Reflections on vocabulary of descriptive statistics\n",
    "\n",
    "## Random Variables: What are they for?\n",
    "Notated by a capital letter, a random variable is a placeholder that stores possible values of a process.\n",
    "<br> For example, if X represents all possible numbers that a 6 sided die can show after rolling, then X is said to be a Random variable. It is a set of all possible values that can be obtained from the die.\n",
    "<br> Each value within a random variable can be notated by a lower case letter, say x. \n",
    "## Descriptive statistics: What and why?\n",
    "These statistics describe the dataset at hand. By just looking at a couple of numbers, you get a deeper understanding of the dataset at hand without looking at every datapoint. They are properties of data, that show how the data is distributed, and what sort of analysis can be done over them that is relevant.\n",
    "### Types of Descriptive statistics\n",
    "- Center\n",
    "- Spread\n",
    "- shape\n",
    "- Outliers\n",
    "\n",
    "### Center\n",
    "The three measures of center are:\n",
    "\n",
    "> Mean: This is the Sum of all values in a random variable divided by the number of observations\n",
    "\n",
    "> Median: This is the center point in the dataset. If the number of observations is odd, then the middle value (after the data is sorted), is the median. While if the count is odd, then the median is the mean of the middle two observations (again after sorting)\n",
    "\n",
    "> Mode: The Value that repeats the most in the data is the mode. There can be more than 1 mode, and there can be no mode at all. (Think about this). If there are no repeating values, then the mode does not exist. If there is a tie between the most repeating values, then this is the mode.\n",
    "## Notation: How is this helpful\n",
    "Notation is a common language for communicating mathematical ideas in consise form. Mathematical notation concepts are similar all throughout the world. Even if someone uses a different language than your own, and you fail to understand anything the other person says, you can be rest assured that '+' stands for the same thing for all. 1 + 1 would equal 2 for both you and them.\n",
    "<br> Another great advantage is that complex ideas can be communicated easily using existing mathematical notation. Say you want to say to sum over a hundred numbers in a random variable. The way to say this is:\n",
    "<br>$\\sum_{i=1}^n x_i$"
   ]
  },
  {
   "cell_type": "markdown",
   "metadata": {},
   "source": [
    "## Spread\n",
    "Spread is how the data is distributed across the complete dataset. The best way to get an idea of the spread of a Random variable is to visually see it. Histograms are a common way to visualize the spread of a random variable.\n",
    "\n",
    "### Histogram\n",
    "For a varibable to be visualized in a histogram, it needs to be first binned into bins. Then the count of the datapoints that fall into each bin are plotted in a bar graph. This technique of plotting is called a histogram. At one glance, we gain an intuitive understanding of the data using the histogram.\n",
    "\n",
    "### Measures of spread\n",
    "- 5 number summary\n",
    "- Range\n",
    "- Interquartile range\n",
    "- Variance\n",
    "- Standard Deviation\n",
    "\n",
    "### 5 Number summary\n",
    "Using a set of 5 metrics, the spread of a random variable can be measured\n",
    "\n",
    "> **Min**: This is the smallest value in the complete data set\n",
    "\n",
    "> **Max**: This is the Largest value\n",
    "\n",
    "> **Median or 2nd Quartile**\n",
    "\n",
    "> **1st Quartile**: This is the median value of the first half of the values of the random variable. This is calculated after sorting the values in the Random variable.\n",
    "\n",
    "> **3rd Quartile**: This is the same, but of the 2nd half of the values, i.e. values larger than the **median** or **2nd Quartile**.\n",
    "\n",
    "### Range\n",
    "Difference between the max and the min of a dataset\n",
    "\n",
    "### Interquartile range\n",
    "Difference between the **3rd Quartile value** and the **2nd Quartile value**.\n",
    "\n",
    "## Variance and Standard Deviation\n",
    "Variance is defined as the average squared difference of each value from the mean. The difference is squared, so that negative values do not cancel out the positive values. All difference become positive values. However, the variance has squared units of the original variable. For example, if the dataset was of Rupees, then the variance would be of Rupees squared units.\n",
    "<br> For easy evaluation and comparison on similar units, the square root of the variance is calculated. This has the same units of the original variable, and this is called the standard deviation. This is usually notated by $\\sigma$.\n",
    "<br> And Variance is notated by $\\sigma^2$\n",
    "\n",
    "### Why?\n",
    "The **Standard deviation** or the **Variance** allows the user to use just a single number to gain an intuitive understanding of the spread of the data without using the 5 number summary. Hence a large number of variables can be compared on spread quickly using either the **Standard deviation** or the **Variance**."
   ]
  },
  {
   "cell_type": "code",
   "execution_count": null,
   "metadata": {},
   "outputs": [],
   "source": []
  }
 ],
 "metadata": {
  "kernelspec": {
   "display_name": "Python 3",
   "language": "python",
   "name": "python3"
  },
  "language_info": {
   "codemirror_mode": {
    "name": "ipython",
    "version": 3
   },
   "file_extension": ".py",
   "mimetype": "text/x-python",
   "name": "python",
   "nbconvert_exporter": "python",
   "pygments_lexer": "ipython3",
   "version": "3.7.0"
  }
 },
 "nbformat": 4,
 "nbformat_minor": 2
}
